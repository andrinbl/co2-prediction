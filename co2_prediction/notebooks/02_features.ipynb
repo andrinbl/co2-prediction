{
 "cells": [
  {
   "cell_type": "code",
   "execution_count": 24,
   "id": "b3c5e089",
   "metadata": {},
   "outputs": [],
   "source": [
    "# 02_features.ipynb – Feature Engineering"
   ]
  },
  {
   "cell_type": "code",
   "execution_count": 25,
   "id": "d8a61b79",
   "metadata": {},
   "outputs": [],
   "source": [
    "# 1. Bibliotheken\n",
    "import pandas as pd\n",
    "import numpy as np"
   ]
  },
  {
   "cell_type": "code",
   "execution_count": 26,
   "id": "13051c31",
   "metadata": {},
   "outputs": [
    {
     "name": "stdout",
     "output_type": "stream",
     "text": [
      "(6274, 12)\n"
     ]
    }
   ],
   "source": [
    "# 2. Daten einlesen\n",
    "df = pd.read_csv(\"../data/model_input.csv\")\n",
    "print(df.shape)\n"
   ]
  },
  {
   "cell_type": "code",
   "execution_count": 27,
   "id": "73e4e23d",
   "metadata": {},
   "outputs": [
    {
     "name": "stdout",
     "output_type": "stream",
     "text": [
      "Unzugeordnete Fahrzeugklassen: 0\n"
     ]
    }
   ],
   "source": [
    "# 3. Fahrzeug-Segment-Mapping - # Mapping basierend auf Wikipedia: https://de.wikipedia.org/wiki/Fahrzeugklasse\n",
    "# Lese externes Mapping aus vehicle_segment.csv\n",
    "mapping_df = pd.read_csv(\"../data/vehicle_segment.csv\")  # ggf. relativen Pfad anpassen\n",
    "segment_map = dict(zip(mapping_df['Vehicle Class'], mapping_df['Segment']))\n",
    "\n",
    "# Wende Mapping an\n",
    "df['Vehicle Segment'] = df['Vehicle Class'].map(segment_map)\n",
    "\n",
    "# Prüfen ob Mapping vollständig war\n",
    "unmapped = df['Vehicle Segment'].isnull().sum()\n",
    "print(f\"Unzugeordnete Fahrzeugklassen: {unmapped}\")\n"
   ]
  },
  {
   "cell_type": "code",
   "execution_count": 28,
   "id": "150f413d",
   "metadata": {},
   "outputs": [
    {
     "name": "stdout",
     "output_type": "stream",
     "text": [
      "gear_count\n",
      "6.0     2784\n",
      "8.0     1513\n",
      "7.0      880\n",
      "9.0      329\n",
      "5.0      276\n",
      "10.0     188\n",
      "4.0       63\n",
      "Name: count, dtype: int64\n",
      "count    6274.000000\n",
      "mean        1.382992\n",
      "std         0.125396\n",
      "min         0.857143\n",
      "25%         1.315068\n",
      "50%         1.384615\n",
      "75%         1.456790\n",
      "max         1.821053\n",
      "Name: consumption_ratio, dtype: float64\n"
     ]
    }
   ],
   "source": [
    "#4. Feature Engineering Verhältnis Verbrauch Stadt / Autobahn\n",
    "df['consumption_ratio'] = df['Fuel Consumption City (L/100 km)'] / df['Fuel Consumption Hwy (L/100 km)']\n",
    "\n",
    "\n",
    "# Anzahl Gänge aus Getriebe extrahieren (z. B. 'A6', 'M5', 'AV')\n",
    "df['gear_count'] = df['Transmission'].str.extract(r'(\\d{1,2})').astype(float)\n",
    "\n",
    "print(df['gear_count'].value_counts())\n",
    "print(df['consumption_ratio'].describe())\n",
    "\n"
   ]
  },
  {
   "cell_type": "code",
   "execution_count": 29,
   "id": "5c8a95df",
   "metadata": {},
   "outputs": [
    {
     "name": "stdout",
     "output_type": "stream",
     "text": [
      "Index(['Vehicle Segment_Kleinstwagen', 'Vehicle Segment_Kleinwagen',\n",
      "       'Vehicle Segment_Kompaktklasse', 'Vehicle Segment_Kompaktklasse Kombi',\n",
      "       'Vehicle Segment_Mittelklasse', 'Vehicle Segment_Mittelklasse Kombi',\n",
      "       'Vehicle Segment_Nutzfahrzeug', 'Vehicle Segment_Nutzfahrzeug leicht',\n",
      "       'Vehicle Segment_Oberklasse', 'Vehicle Segment_SUV gross',\n",
      "       'Vehicle Segment_SUV kompakt', 'Vehicle Segment_Spezialfahrzeug',\n",
      "       'Vehicle Segment_Sportwagen', 'Vehicle Segment_Van / MPV'],\n",
      "      dtype='object')\n"
     ]
    }
   ],
   "source": [
    "# OneHot-Encoding der neuen Fahrzeugsegmente\n",
    "df = pd.get_dummies(df, columns=['Vehicle Segment'], drop_first=False)\n",
    "print(df.filter(like='Vehicle Segment_').columns)\n",
    "\n"
   ]
  },
  {
   "cell_type": "code",
   "execution_count": 30,
   "id": "99618d7e",
   "metadata": {},
   "outputs": [
    {
     "name": "stdout",
     "output_type": "stream",
     "text": [
      "Index(['Fuel Type_E', 'Fuel Type_N', 'Fuel Type_X', 'Fuel Type_Z'], dtype='object')\n"
     ]
    }
   ],
   "source": [
    "# 5. OneHot-Encoding für Fuel Type\n",
    "df = pd.get_dummies(df, columns=['Fuel Type'], drop_first=True)\n",
    "print(df.filter(like='Fuel Type_').columns)\n"
   ]
  },
  {
   "cell_type": "code",
   "execution_count": 31,
   "id": "4fbc33ab",
   "metadata": {},
   "outputs": [],
   "source": [
    "# 6. Binär-Feature: is_automatic aus Transmission\n",
    "df['is_automatic'] = df['Transmission'].apply(lambda x: 1 if 'A' in x else 0)\n",
    "# Ergänzung: is_manual ergänzen, damit spätere Modellfeatures vollständig sind\n",
    "if 'is_manual' not in df.columns:\n",
    "    df['is_manual'] = 1 - df['is_automatic']"
   ]
  },
  {
   "cell_type": "code",
   "execution_count": 32,
   "id": "3496529d",
   "metadata": {},
   "outputs": [],
   "source": [
    "# 7. Ziel- und Prädiktoren-Spalten vorbereiten\n",
    "target = 'Fuel Consumption Comb (L/100 km)'\n",
    "features = [\n",
    "    'Engine Size(L)',\n",
    "    'Cylinders',\n",
    "    'is_automatic',\n",
    "    'is_manual',\n",
    "    'gear_count',\n",
    "    'consumption_ratio'\n",
    "] + [col for col in df.columns if col.startswith('Vehicle Segment_') or col.startswith('Fuel Type_')]"
   ]
  },
  {
   "cell_type": "code",
   "execution_count": 33,
   "id": "f058cbf5",
   "metadata": {},
   "outputs": [
    {
     "name": "stdout",
     "output_type": "stream",
     "text": [
      "Finale Features für das Modell:\n",
      "['Engine Size(L)', 'Cylinders', 'is_automatic', 'is_manual', 'gear_count', 'consumption_ratio', 'Vehicle Segment_Kleinstwagen', 'Vehicle Segment_Kleinwagen', 'Vehicle Segment_Kompaktklasse', 'Vehicle Segment_Kompaktklasse Kombi', 'Vehicle Segment_Mittelklasse', 'Vehicle Segment_Mittelklasse Kombi', 'Vehicle Segment_Nutzfahrzeug', 'Vehicle Segment_Nutzfahrzeug leicht', 'Vehicle Segment_Oberklasse', 'Vehicle Segment_SUV gross', 'Vehicle Segment_SUV kompakt', 'Vehicle Segment_Spezialfahrzeug', 'Vehicle Segment_Sportwagen', 'Vehicle Segment_Van / MPV', 'Fuel Type_E', 'Fuel Type_N', 'Fuel Type_X', 'Fuel Type_Z']\n",
      "\n",
      "Shape (X): (6274, 24) | Shape (y): (6274,)\n"
     ]
    }
   ],
   "source": [
    "# 8. Ausgabe\n",
    "print(\"Finale Features für das Modell:\")\n",
    "print(features)\n",
    "print(\"\\nShape (X):\", df[features].shape, \"| Shape (y):\", df[target].shape)\n"
   ]
  },
  {
   "cell_type": "code",
   "execution_count": 34,
   "id": "d192ab97",
   "metadata": {},
   "outputs": [],
   "source": [
    "# Finale Features und Zielvariable speichern\n",
    "X = df[features]\n",
    "y = df[target]\n",
    "X.to_csv('../data/X_features.csv', index=False)\n",
    "y.to_csv('../data/y_target.csv', index=False)\n"
   ]
  }
 ],
 "metadata": {
  "kernelspec": {
   "display_name": "venv",
   "language": "python",
   "name": "python3"
  },
  "language_info": {
   "codemirror_mode": {
    "name": "ipython",
    "version": 3
   },
   "file_extension": ".py",
   "mimetype": "text/x-python",
   "name": "python",
   "nbconvert_exporter": "python",
   "pygments_lexer": "ipython3",
   "version": "3.13.2"
  }
 },
 "nbformat": 4,
 "nbformat_minor": 5
}
